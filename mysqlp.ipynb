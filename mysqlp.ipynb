{
 "cells": [
  {
   "cell_type": "code",
   "execution_count": null,
   "metadata": {},
   "outputs": [],
   "source": [
    

    "# Description: Connect to MySQL database and print all records from actor table\n",
    "import mysql.connector\n",
    "\n",
    "# Connect to MySQL database    \n",
    "db = mysql.connector.connect(\n",
    "    host=\"localhost\", \n",
    "    user=\"root\",\n",
    "    passwd=\"1234\",\n",
    "    database=\"sakila\"\n",
    ")\n",
    "\n",
    "# Create a cursor object using the cursor() method\n",
    "mycursor = db.cursor()\n",
    "\n",
    "# Execute SQL query using the execute() method\n",
    "mycursor.execute(\"SELECT * FROM actor\")\n",
    "\n",
    "# Fetch all the rows using the fetchall() method\n",
    "myresult = mycursor.fetchall()\n",
    "\n",
    "# Print all records\n",
    "for x in myresult:\n",
    "    print(x)"
   ]
  }
 ],
 "metadata": {
  "language_info": {
   "codemirror_mode": {
    "name": "ipython",
    "version": 3
   },
   "file_extension": ".py",
   "mimetype": "text/x-python",
   "name": "python",
   "nbconvert_exporter": "python",
   "pygments_lexer": "ipython3",
   "version": 3
  }
 },
 "nbformat": 4,
 "nbformat_minor": 2
}
